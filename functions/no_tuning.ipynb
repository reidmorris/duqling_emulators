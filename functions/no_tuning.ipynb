{
 "cells": [
  {
   "cell_type": "markdown",
   "id": "1f8b01cc",
   "metadata": {},
   "source": [
    "## Evaluating the predictive accuracy of physics emulators without hyperparameter fine tuning"
   ]
  },
  {
   "cell_type": "code",
   "execution_count": null,
   "id": "a705d1c3",
   "metadata": {},
   "outputs": [],
   "source": [
    "from tqdm.notebook import tqdm\n",
    "\n",
    "import pandas as pd\n",
    "import numpy as np\n",
    "from sklearn.metrics import mean_squared_error\n",
    "from duqling_interface import DuqlingInterface\n",
    "\n",
    "from plot_performance import heatmap"
   ]
  },
  {
   "cell_type": "code",
   "execution_count": null,
   "id": "208d729d",
   "metadata": {},
   "outputs": [],
   "source": [
    "from sklearn.cross_decomposition      import PLSRegression\n",
    "from sklearn.linear_model             import LassoLars, ElasticNet\n",
    "from sklearn.ensemble                 import ExtraTreesRegressor, GradientBoostingRegressor\n",
    "from sklearn.svm                      import SVR\n",
    "from sklearn.gaussian_process         import GaussianProcessRegressor\n",
    "from sklearn.gaussian_process.kernels import Matern, ConstantKernel, WhiteKernel\n",
    "from sklearn.pipeline                 import Pipeline\n",
    "from sklearn.preprocessing            import StandardScaler\n",
    "\n",
    "models = [\n",
    "    PLSRegression(n_components=1),\n",
    "    LassoLars(random_state=42),\n",
    "    ElasticNet(max_iter=10_000, random_state=42),\n",
    "    ExtraTreesRegressor(random_state=42),\n",
    "    GradientBoostingRegressor(random_state=42),\n",
    "    SVR(kernel='rbf'),\n",
    "    Pipeline([\n",
    "        ('scale', StandardScaler()),\n",
    "        ('gpr',   GaussianProcessRegressor(\n",
    "            kernel = ConstantKernel(1.0, (1e-2, 1e2))\n",
    "                    * Matern()\n",
    "                    + WhiteKernel(1e-3, (1e-6, 1e1)),\n",
    "            n_restarts_optimizer = 3,\n",
    "            random_state = 42,\n",
    "            normalize_y = True\n",
    "        ))\n",
    "    ])\n",
    "]"
   ]
  },
  {
   "cell_type": "code",
   "execution_count": null,
   "id": "cb93c4bb",
   "metadata": {},
   "outputs": [],
   "source": [
    "duq = DuqlingInterface()\n",
    "\n",
    "univariate_funcs = duq.list_functions(response_type='uni').fname"
   ]
  },
  {
   "cell_type": "markdown",
   "id": "dc27a7f3",
   "metadata": {},
   "source": [
    "As Kelin pointed out, latin hypercube sampling will produce distinct distributions of data based on the random seed."
   ]
  },
  {
   "cell_type": "code",
   "execution_count": null,
   "id": "4ed65e4d",
   "metadata": {},
   "outputs": [],
   "source": [
    "duqling_funcs = duq.list_functions(response_type='uni').fname\n",
    "model_names = [model.__class__.__name__ for model in models]\n",
    "\n",
    "df_mse = pd.DataFrame(columns=duqling_funcs, index=model_names)"
   ]
  },
  {
   "cell_type": "code",
   "execution_count": null,
   "id": "00492af0",
   "metadata": {},
   "outputs": [],
   "source": [
    "for fname in tqdm(duqling_funcs):\n",
    "    if fname == 'cube3_rotate':\n",
    "        continue\n",
    "    X_trn, y_trn = duq.generate_data(fname, 1000, seed=41)\n",
    "    X_tst, y_tst = duq.generate_data(fname, 1000, seed=42)\n",
    "    for model in models:\n",
    "        model.fit(X_trn, y_trn)\n",
    "        y_pred = model.predict(X_tst)\n",
    "        df_mse.at[model.__class__.__name__, fname] = mean_squared_error(y_pred, y_tst)"
   ]
  },
  {
   "cell_type": "code",
   "execution_count": null,
   "id": "7f3b1bba",
   "metadata": {},
   "outputs": [],
   "source": [
    "import xarray as xr\n",
    "from pathlib import Path\n",
    "import pickle\n",
    "\n",
    "metrics     = [\"test_rmse\", \"sigma\", \"r_val\"]\n",
    "model_names = ['pls', 'lassolars', 'elasticnet', 'xt', 'gbr', 'svr', 'gpr']\n",
    "\n",
    "arr = np.full((len(metrics), len(model_names), len(univariate_funcs)), np.nan)\n",
    "\n",
    "for j, model in enumerate(model_names):\n",
    "    for k, func in enumerate(univariate_funcs):\n",
    "        pkl = Path('models', model, func, 'cv_no_fold_results.pkl')\n",
    "        if not pkl.exists(): # can remove when cube3_rotate gets fixed\n",
    "            continue\n",
    "        with pkl.open(\"rb\") as fh:\n",
    "            data = pickle.load(fh)\n",
    "        for i, m in enumerate(metrics):\n",
    "            arr[i, j, k] = data[m]\n",
    "\n",
    "summary = xr.DataArray(\n",
    "    arr,\n",
    "    coords={\"metric\": metrics, \"model\": model_names, \"function\": univariate_funcs},\n",
    "    dims=[\"metric\", \"model\", \"function\"]\n",
    ")\n",
    "\n",
    "def metric_df(metric: str) -> pd.DataFrame:\n",
    "    \"\"\"Return a model and function DataFrame for a single metric.\"\"\"\n",
    "    return summary.sel(metric=metric).to_pandas()\n",
    "\n",
    "df_std  = metric_df('sigma')\n",
    "df_rmse_tune = metric_df('test_rmse')\n",
    "\n",
    "cols_to_drop = [\n",
    "    # 'circuit', 'cantilever_S', 'banana', 'cube3_rotate', 'steel_column',\n",
    "    'const_fn', 'const_fn3', 'const_fn15', 'cube3_rotate'\n",
    "]"
   ]
  },
  {
   "cell_type": "code",
   "execution_count": null,
   "id": "c8e95f30",
   "metadata": {},
   "outputs": [],
   "source": [
    "df_rmse = df_mse.map(np.sqrt)"
   ]
  },
  {
   "cell_type": "code",
   "execution_count": null,
   "id": "1315caa7",
   "metadata": {},
   "outputs": [],
   "source": [
    "df_rmse[['dms_radial', 'ripples', 'Gfunction6', 'Gfunction12', 'Gfunction18', 'onehundred']]"
   ]
  },
  {
   "cell_type": "code",
   "execution_count": null,
   "id": "f2aa3edf",
   "metadata": {},
   "outputs": [],
   "source": [
    "fig1 = heatmap(df_rmse.drop(cols_to_drop, axis=1), \"Test RMSE\")\n",
    "fig2 = heatmap((df_rmse/df_std).drop(cols_to_drop, axis=1), \"Test RMSE / \\u03C3\")\n",
    "fig3 = heatmap((df_rmse/df_std)[(df_rmse/df_std).drop(cols_to_drop, axis=1)>1].drop(cols_to_drop, axis=1), \"(Test RMSE / \\u03C3) > 1\")\n",
    "\n",
    "df_filtered = (df_rmse/df_std)[(df_rmse/df_std).drop(cols_to_drop, axis=1)>1].drop(cols_to_drop, axis=1)\n",
    "drop_cols = df_filtered.columns[df_filtered.isnull().all()]\n",
    "fig4 = heatmap(df_filtered.drop(drop_cols, axis=1), \"(Test RMSE / \\u03C3) > 1\")"
   ]
  },
  {
   "cell_type": "code",
   "execution_count": null,
   "id": "53e11ebd",
   "metadata": {},
   "outputs": [],
   "source": [
    "hh = df_rmse[['dms_radial', 'ripples', 'Gfunction6', 'Gfunction12', 'Gfunction18', 'onehundred']].copy()\n",
    "hh.index = ['pls', 'lassolars', 'elasticnet', 'xt', 'gbr', 'svr', 'gpr']"
   ]
  },
  {
   "cell_type": "code",
   "execution_count": null,
   "id": "be36649c",
   "metadata": {},
   "outputs": [],
   "source": [
    "heatmap(hh, \"Test RMSE\")"
   ]
  },
  {
   "cell_type": "code",
   "execution_count": null,
   "id": "ea29d739",
   "metadata": {},
   "outputs": [],
   "source": [
    "df_rmse_tune.index = ['pls', 'lassolars', 'elasticnet', 'xt', 'gbr', 'svr', 'gpr']\n",
    "df_rmse.index = ['pls', 'lassolars', 'elasticnet', 'xt', 'gbr', 'svr', 'gpr']"
   ]
  },
  {
   "cell_type": "code",
   "execution_count": null,
   "id": "9578ec42",
   "metadata": {},
   "outputs": [],
   "source": [
    "diff_df = df_rmse_tune - df_rmse\n",
    "diff_df_filtered = diff_df[diff_df>0]\n",
    "outlier_cols = diff_df.columns[diff_df_filtered.isnull().all()]\n",
    "heatmap(diff_df_filtered.drop(outlier_cols, axis=1), 'Failed CV Tuning')\n",
    "# heatmap(diff_df, 'RMSE Impact From Tuning')"
   ]
  },
  {
   "cell_type": "code",
   "execution_count": null,
   "id": "3be60af2",
   "metadata": {},
   "outputs": [],
   "source": [
    "df_rmse_tune['Gfunction18']"
   ]
  },
  {
   "cell_type": "code",
   "execution_count": null,
   "id": "e1fa16ae",
   "metadata": {},
   "outputs": [],
   "source": [
    "df_rmse['Gfunction18']"
   ]
  },
  {
   "cell_type": "code",
   "execution_count": null,
   "id": "4f5408ff",
   "metadata": {},
   "outputs": [],
   "source": []
  }
 ],
 "metadata": {
  "kernelspec": {
   "display_name": "duqling_venv",
   "language": "python",
   "name": "python3"
  },
  "language_info": {
   "codemirror_mode": {
    "name": "ipython",
    "version": 3
   },
   "file_extension": ".py",
   "mimetype": "text/x-python",
   "name": "python",
   "nbconvert_exporter": "python",
   "pygments_lexer": "ipython3",
   "version": "3.11.4"
  }
 },
 "nbformat": 4,
 "nbformat_minor": 5
}
