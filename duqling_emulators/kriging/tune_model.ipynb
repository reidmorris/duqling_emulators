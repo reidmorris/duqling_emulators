{
 "cells": [
  {
   "cell_type": "code",
   "execution_count": 2,
   "id": "ba6f16eb",
   "metadata": {},
   "outputs": [],
   "source": [
    "import numpy as np\n",
    "from sklearn.gaussian_process import GaussianProcessRegressor\n",
    "from sklearn.preprocessing import StandardScaler\n",
    "from sklearn.metrics import mean_squared_error\n",
    "from scipy.stats.qmc import LatinHypercube\n",
    "\n",
    "from duqling_py import Duqling\n",
    "from kernel_search import search_kernel, build_kernel"
   ]
  },
  {
   "cell_type": "code",
   "execution_count": 3,
   "id": "27456c5a",
   "metadata": {},
   "outputs": [],
   "source": [
    "duqling = Duqling()"
   ]
  },
  {
   "cell_type": "code",
   "execution_count": 4,
   "id": "3e17598d",
   "metadata": {},
   "outputs": [],
   "source": [
    "def lhs_array(n: int, d: int, ranges: np.ndarray | None = None, seed: int | None = None) -> np.ndarray:\n",
    "    sampler = LatinHypercube(d, seed=seed)\n",
    "    samples = sampler.random(n)\n",
    "    if ranges is not None:\n",
    "        samples = ranges[:, 0] + samples * (ranges[:, 1] - ranges[:, 0])\n",
    "    return samples"
   ]
  },
  {
   "cell_type": "code",
   "execution_count": 5,
   "id": "c4c9cf5a",
   "metadata": {},
   "outputs": [],
   "source": [
    "def get_data(fname):\n",
    "    func_info = duqling.quack(fname)\n",
    "    input_dim   = func_info[\"input_dim\"]\n",
    "    input_range = func_info[\"input_range\"]\n",
    "\n",
    "    X_tr = lhs_array(1000, input_dim, input_range, seed=31)\n",
    "    X_va = lhs_array(1000, input_dim, input_range, seed=41)\n",
    "    X_te = lhs_array(1000, input_dim, input_range, seed=59)\n",
    "\n",
    "    y_tr = duqling.duq(X_tr, fname, scale01=False)\n",
    "    y_va = duqling.duq(X_va, fname, scale01=False)\n",
    "    y_te = duqling.duq(X_te, fname, scale01=False)\n",
    "\n",
    "    scaler = StandardScaler()\n",
    "    X_tr = scaler.fit_transform(X_tr)\n",
    "    X_va = scaler.transform(X_va)\n",
    "    X_te = scaler.transform(X_te)\n",
    "\n",
    "    return [(X_tr, y_tr), (X_va, y_va), (X_te, y_te)]"
   ]
  },
  {
   "cell_type": "code",
   "execution_count": 6,
   "id": "64c8d1aa",
   "metadata": {},
   "outputs": [
    {
     "name": "stderr",
     "output_type": "stream",
     "text": [
      "/Users/reidmorris/Desktop/duqling/duqling_venv/lib/python3.11/site-packages/sklearn/gaussian_process/kernels.py:452: ConvergenceWarning: The optimal value found for dimension 0 of parameter k2__constant_value is close to the specified upper bound 100000.0. Increasing the bound and calling fit again may find a better value.\n",
      "  warnings.warn(\n",
      "/Users/reidmorris/Desktop/duqling/duqling_venv/lib/python3.11/site-packages/sklearn/gaussian_process/_gpr.py:660: ConvergenceWarning: lbfgs failed to converge (status=2):\n",
      "ABNORMAL: .\n",
      "\n",
      "Increase the number of iterations (max_iter) or scale the data as shown in:\n",
      "    https://scikit-learn.org/stable/modules/preprocessing.html\n",
      "  _check_optimize_result(\"lbfgs\", opt_res)\n",
      "/Users/reidmorris/Desktop/duqling/duqling_venv/lib/python3.11/site-packages/sklearn/gaussian_process/kernels.py:452: ConvergenceWarning: The optimal value found for dimension 0 of parameter k2__constant_value is close to the specified upper bound 100000.0. Increasing the bound and calling fit again may find a better value.\n",
      "  warnings.warn(\n"
     ]
    },
    {
     "name": "stdout",
     "output_type": "stream",
     "text": [
      "Test RMSE: 0.0121\n"
     ]
    },
    {
     "name": "stderr",
     "output_type": "stream",
     "text": [
      "/Users/reidmorris/Desktop/duqling/duqling_venv/lib/python3.11/site-packages/sklearn/gaussian_process/_gpr.py:660: ConvergenceWarning: lbfgs failed to converge (status=2):\n",
      "ABNORMAL: .\n",
      "\n",
      "Increase the number of iterations (max_iter) or scale the data as shown in:\n",
      "    https://scikit-learn.org/stable/modules/preprocessing.html\n",
      "  _check_optimize_result(\"lbfgs\", opt_res)\n",
      "/Users/reidmorris/Desktop/duqling/duqling_venv/lib/python3.11/site-packages/sklearn/gaussian_process/kernels.py:452: ConvergenceWarning: The optimal value found for dimension 0 of parameter k2__constant_value is close to the specified upper bound 100000.0. Increasing the bound and calling fit again may find a better value.\n",
      "  warnings.warn(\n"
     ]
    }
   ],
   "source": [
    "(X_tr, y_tr), (X_va, y_va), (X_te, y_te) = get_data('banana')\n",
    "\n",
    "kernel = search_kernel(X_tr, y_tr)\n",
    "gp = GaussianProcessRegressor(kernel=build_kernel(kernel), normalize_y=True)\n",
    "gp.fit(X_tr, y_tr)\n",
    "print(f\"Test RMSE: {np.sqrt(mean_squared_error(gp.predict(X_te), y_te)):.4f}\")"
   ]
  },
  {
   "cell_type": "code",
   "execution_count": null,
   "id": "0cb50759",
   "metadata": {},
   "outputs": [],
   "source": []
  }
 ],
 "metadata": {
  "kernelspec": {
   "display_name": "duqling_venv",
   "language": "python",
   "name": "python3"
  },
  "language_info": {
   "codemirror_mode": {
    "name": "ipython",
    "version": 3
   },
   "file_extension": ".py",
   "mimetype": "text/x-python",
   "name": "python",
   "nbconvert_exporter": "python",
   "pygments_lexer": "ipython3",
   "version": "3.11.4"
  }
 },
 "nbformat": 4,
 "nbformat_minor": 5
}
